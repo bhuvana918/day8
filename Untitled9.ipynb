{
  "nbformat": 4,
  "nbformat_minor": 0,
  "metadata": {
    "colab": {
      "provenance": []
    },
    "kernelspec": {
      "name": "python3",
      "display_name": "Python 3"
    },
    "language_info": {
      "name": "python"
    }
  },
  "cells": [
    {
      "cell_type": "code",
      "execution_count": 1,
      "metadata": {
        "colab": {
          "base_uri": "https://localhost:8080/"
        },
        "id": "gICsQq4hhtJ9",
        "outputId": "51e9e7f7-7d50-43a1-d692-349146a39784"
      },
      "outputs": [
        {
          "output_type": "stream",
          "name": "stdout",
          "text": [
            "Requirement already satisfied: opencv-python in /usr/local/lib/python3.10/dist-packages (4.8.0.76)\n",
            "Requirement already satisfied: numpy>=1.21.2 in /usr/local/lib/python3.10/dist-packages (from opencv-python) (1.25.2)\n"
          ]
        }
      ],
      "source": [
        "pip install opencv-python\n"
      ]
    },
    {
      "cell_type": "code",
      "source": [
        "import cv2\n",
        "import os\n",
        "\n",
        "# Function to convert an image to grayscale\n",
        "def convert_to_grayscale(input_path, output_path):\n",
        "    # Read the image from file\n",
        "    img = cv2.imread(input_path)\n",
        "\n",
        "    # Convert the image to grayscale\n",
        "    gray_img = cv2.cvtColor(img, cv2.COLOR_BGR2GRAY)\n",
        "\n",
        "    # Write the grayscale image to the output path\n",
        "    cv2.imwrite(output_path, gray_img)\n",
        "\n",
        "# Path to the directory containing the input images\n",
        "input_directory = \"C:\\Users\\hp\\Pictures\\NCAT naukri.png\"\n",
        "\n",
        "# Path to the directory where grayscale images will be saved\n",
        "output_directory = \"C:\\Users\\hp\\Pictures\\NCAT naukri.png\"\n",
        "\n",
        "# List all files in the input directory\n",
        "files = os.listdir(input_directory)\n",
        "\n",
        "# Ensure output directory exists\n",
        "os.makedirs(output_directory, exist_ok=True)\n",
        "\n",
        "# Loop through all files in the directory\n",
        "for file in files:\n",
        "    # Construct the full path to the input file\n",
        "    input_path = os.path.join(input_directory, file)\n",
        "\n",
        "    # Construct the full path to the output file\n",
        "    output_path = os.path.join(output_directory, file)\n",
        "\n",
        "    # Convert the image to grayscale and save it\n",
        "    convert_to_grayscale(input_path, output_path)\n",
        "\n",
        "print(f\"Conversion completed for {len(files)} images.\")\n"
      ],
      "metadata": {
        "id": "9Y3kqRcphvvD"
      },
      "execution_count": null,
      "outputs": []
    },
    {
      "cell_type": "code",
      "source": [
        "import cv2\n",
        "import os\n",
        "\n",
        "# Function to resize an image to 50% of its original size\n",
        "def resize_image(input_path, output_path):\n",
        "    # Read the image from file\n",
        "    img = cv2.imread(input_path)\n",
        "\n",
        "    # Get the original dimensions of the image\n",
        "    height, width = img.shape[:2]\n",
        "\n",
        "    # Calculate the new dimensions (50% of original)\n",
        "    new_height = int(height * 0.5)\n",
        "    new_width = int(width * 0.5)\n",
        "\n",
        "    # Resize the image\n",
        "    resized_img = cv2.resize(img, (new_width, new_height), interpolation=cv2.INTER_AREA)\n",
        "\n",
        "    # Write the resized image to the output path\n",
        "    cv2.imwrite(output_path, resized_img)\n",
        "\n",
        "# Path to the directory containing the input images\n",
        "input_directory = input_directory = 'C:/Users/hp/Pictures/NCAT naukri.png'\n",
        "\n",
        "\n",
        "# Path to the directory where resized images will be saved\n",
        "output_directory =input_directory = 'C:/Users/hp/Pictures/NCAT naukri.png'\n",
        "\n",
        "\n",
        "# List all files in the input directory\n",
        "files = os.listdir(input_directory)\n",
        "\n",
        "# Ensure output directory exists\n",
        "os.makedirs(output_directory, exist_ok=True)\n",
        "\n",
        "# Loop through all files in the directory\n",
        "for file in files:\n",
        "    # Construct the full path to the input file\n",
        "    input_path = os.path.join(input_directory, file)\n",
        "\n",
        "    # Construct the full path to the output file\n",
        "    output_path = os.path.join(output_directory, file)\n",
        "\n",
        "    # Resize the image to 50% and save it\n",
        "    resize_image(input_path, output_path)\n",
        "\n",
        "print(f\"Resizing completed for {len(files)} images.\")\n"
      ],
      "metadata": {
        "id": "m43yUH8Phvx7"
      },
      "execution_count": null,
      "outputs": []
    },
    {
      "cell_type": "code",
      "source": [
        "import cv2\n",
        "\n",
        "# Path to the input video file\n",
        "input_video_path = '/path/to/input/video.mp4'\n",
        "\n",
        "# Path to the output video file (where grayscale video will be saved)\n",
        "output_video_path = '/path/to/output/gray_video.mp4'\n",
        "\n",
        "# Open the input video file\n",
        "cap = cv2.VideoCapture(input_video_path)\n",
        "\n",
        "# Get the video frame width, height, and frames per second (fps)\n",
        "frame_width = int(cap.get(cv2.CAP_PROP_FRAME_WIDTH))\n",
        "frame_height = int(cap.get(cv2.CAP_PROP_FRAME_HEIGHT))\n",
        "fps = int(cap.get(cv2.CAP_PROP_FPS))\n",
        "\n",
        "# Define the codec and create VideoWriter object\n",
        "fourcc = cv2.VideoWriter_fourcc(*'mp4v')  # Codec for output video\n",
        "out = cv2.VideoWriter(output_video_path, fourcc, fps, (frame_width, frame_height), isColor=False)\n",
        "\n",
        "# Process each frame in the video\n",
        "while True:\n",
        "    ret, frame = cap.read()  # Read a frame from the video\n",
        "\n",
        "    if not ret:\n",
        "        break  # Break the loop if there are no more frames\n",
        "\n",
        "    # Convert the frame to grayscale\n",
        "    gray_frame = cv2.cvtColor(frame, cv2.COLOR_BGR2GRAY)\n",
        "\n",
        "    # Write the grayscale f\n"
      ],
      "metadata": {
        "id": "E3EOSsl3iiQM"
      },
      "execution_count": 3,
      "outputs": []
    },
    {
      "cell_type": "code",
      "source": [
        "import cv2\n",
        "\n",
        "# Path to the input video file\n",
        "input_video_path = '/path/to/input/video.mp4'\n",
        "\n",
        "# Path to the output video file (where resized video will be saved)\n",
        "output_video_path = '/path/to/output/resized_video.mp4'\n",
        "\n",
        "# Open the input video file\n",
        "cap = cv2.VideoCapture(input_video_path)\n",
        "\n",
        "# Get the video frame width, height, and frames per second (fps)\n",
        "frame_width = int(cap.get(cv2.CAP_PROP_FRAME_WIDTH))\n",
        "frame_height = int(cap.get(cv2.CAP_PROP_FRAME_HEIGHT))\n",
        "fps = int(cap.get(cv2.CAP_PROP_FPS))\n",
        "\n",
        "# Calculate the new dimensions (50% of original)\n",
        "new_width = int(frame_width * 0.5)\n",
        "new_height = int(frame_height * 0.5)\n",
        "\n",
        "# Define the codec and create VideoWriter object\n",
        "fourcc = cv2.VideoWriter_fourcc(*'mp4v')  # Codec for output video\n",
        "out = cv2.VideoWriter(output_video_path, fourcc, fps, (new_width, new_height))\n",
        "\n",
        "# Process each frame in the video\n",
        "while True:\n",
        "    ret, frame = cap.read()  # Read a frame from the video\n",
        "\n",
        "    if not ret:\n",
        "        break  # Break the loop if there are no more frames\n",
        "\n",
        "    # Resize the frame to 50% of its original size\n",
        "    resized_frame = cv2.resize(frame, (new_width, new_height), interpolation=cv2.INTER_AREA)\n",
        "\n",
        "    # Write the resized frame to the output video file\n",
        "    out.write(resized_frame)\n",
        "\n",
        "    # Display the resized frame (optional)\n",
        "    cv2.imshow('Resized Frame', resized_frame)\n",
        "\n",
        "    # Exit the loop if 'q' key is pressed\n",
        "    if cv2.waitKey(1) & 0xFF == ord('q'):\n",
        "        break\n",
        "\n",
        "# Release resources\n",
        "cap.release()\n",
        "out.release()\n",
        "cv2.destroyAllWindows()\n",
        "\n",
        "print(f\"Resizing completed. Resized video saved at {output_video_path}\")\n"
      ],
      "metadata": {
        "colab": {
          "base_uri": "https://localhost:8080/"
        },
        "id": "1ug8ULOjiiSl",
        "outputId": "82a34a3c-ef62-458d-e5aa-82f6171a7f01"
      },
      "execution_count": 2,
      "outputs": [
        {
          "output_type": "stream",
          "name": "stdout",
          "text": [
            "Resizing completed. Resized video saved at /path/to/output/resized_video.mp4\n"
          ]
        }
      ]
    },
    {
      "cell_type": "code",
      "source": [],
      "metadata": {
        "id": "5xNXxN-kiiWw"
      },
      "execution_count": null,
      "outputs": []
    }
  ]
}